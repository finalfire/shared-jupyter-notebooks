{
 "cells": [
  {
   "cell_type": "code",
   "execution_count": 9,
   "metadata": {},
   "outputs": [],
   "source": [
    "import predict\n",
    "import os\n",
    "import numpy as np\n",
    "from keras.models import load_model\n",
    "from vis.visualization import visualize_activation\n",
    "from scipy.stats import normaltest"
   ]
  },
  {
   "cell_type": "code",
   "execution_count": 2,
   "metadata": {},
   "outputs": [],
   "source": [
    "model = predict.build_model()"
   ]
  },
  {
   "cell_type": "code",
   "execution_count": null,
   "metadata": {},
   "outputs": [],
   "source": [
    "stages = ('CIS', 'RR', 'SP', 'PP')\n",
    "path = 'Matrices/{}'\n",
    "heatmaps = list()\n",
    "\n",
    "for stage in stages:\n",
    "    for patient in os.listdir(path.format(stage)):\n",
    "        if not patient.startswith('.'):\n",
    "            graph_adjacency = np.genfromtxt('{}/{}'.format(path.format(stage), patient))\n",
    "            #print(graph_adjacency.shape)\n",
    "\n",
    "            pred_bn, confidences = model.predict(graph_adjacency)\n",
    "            \n",
    "            #print('Computing partial derivatives for each samples')\n",
    "            #print('This operation requires time...')\n",
    "            \n",
    "            # compute for each edge the partial derivatives according to Simonyan et al (2013)\n",
    "            heatmap = visualize_activation(model.model, layer_idx=-1, filter_indices=0, seed_input=graph_adjacency)\n",
    "            #print(heatmap.shape)\n",
    "            heatmaps.append(heatmap)"
   ]
  }
 ],
 "metadata": {
  "kernelspec": {
   "display_name": "Python 3",
   "language": "python",
   "name": "python3"
  },
  "language_info": {
   "codemirror_mode": {
    "name": "ipython",
    "version": 3
   },
   "file_extension": ".py",
   "mimetype": "text/x-python",
   "name": "python",
   "nbconvert_exporter": "python",
   "pygments_lexer": "ipython3",
   "version": "3.6.3"
  }
 },
 "nbformat": 4,
 "nbformat_minor": 2
}
