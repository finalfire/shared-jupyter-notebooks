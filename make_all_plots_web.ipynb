{
 "cells": [
  {
   "cell_type": "code",
   "execution_count": 1,
   "metadata": {},
   "outputs": [],
   "source": [
    "import pandas as pd\n",
    "import scipy.stats as stats\n",
    "import numpy as np\n",
    "import matplotlib.pyplot as plt\n",
    "\n",
    "from matplotlib import rc\n",
    "\n",
    "rc('axes', **{\n",
    "    'titlesize': 9,\n",
    "    'labelsize': 9,\n",
    "    'linewidth': 0.2\n",
    "})\n",
    "\n",
    "rc('font', **{\n",
    "    'family':'sans-serif',\n",
    "    'sans-serif':['Computer Modern serif']\n",
    "})\n",
    "\n",
    "rc('legend', **{\n",
    "    'fontsize': 7,\n",
    "    'edgecolor': 'white'\n",
    "})\n",
    "\n",
    "rc('figure', **{\n",
    "    'dpi': 200\n",
    "})"
   ]
  },
  {
   "cell_type": "code",
   "execution_count": 4,
   "metadata": {},
   "outputs": [
    {
     "name": "stderr",
     "output_type": "stream",
     "text": [
      "/conda/anaconda/lib/python3.5/site-packages/ipykernel_launcher.py:23: FutureWarning: from_csv is deprecated. Please use read_csv(...) instead. Note that some of the default arguments are different, so please refer to the documentation for from_csv when changing your function calls\n"
     ]
    },
    {
     "name": "stdout",
     "output_type": "stream",
     "text": [
      "CIS\n",
      "Index(['Run', 'CIS', 'PP', 'RR', 'SP', 'OUTCLASS', 'Edges'], dtype='object')\n",
      "Index(['Iteration', 'CIS', 'RR', 'SP', 'PP', 'OUTCLASS', 'Edges'], dtype='object')\n",
      "RR\n",
      "Index(['Run', 'CIS', 'PP', 'RR', 'SP', 'OUTCLASS', 'Edges'], dtype='object')\n",
      "Index(['Iteration', 'CIS', 'RR', 'SP', 'PP', 'OUTCLASS', 'Edges'], dtype='object')\n",
      "SP\n",
      "Index(['Run', 'CIS', 'PP', 'RR', 'SP', 'OUTCLASS', 'Edges'], dtype='object')\n",
      "Index(['Iteration', 'CIS', 'RR', 'SP', 'PP', 'OUTCLASS', 'Edges'], dtype='object')\n",
      "PP\n",
      "Index(['Run', 'CIS', 'PP', 'RR', 'SP', 'OUTCLASS', 'Edges'], dtype='object')\n",
      "Index(['Iteration', 'CIS', 'RR', 'SP', 'PP', 'OUTCLASS', 'Edges'], dtype='object')\n"
     ]
    },
    {
     "name": "stderr",
     "output_type": "stream",
     "text": [
      "/conda/anaconda/lib/python3.5/site-packages/matplotlib/font_manager.py:1328: UserWarning: findfont: Font family ['sans-serif'] not found. Falling back to DejaVu Sans\n",
      "  (prop.get_family(), self.defaultFamily[fontext]))\n"
     ]
    },
    {
     "name": "stdout",
     "output_type": "stream",
     "text": [
      "All done, folks!\n"
     ]
    },
    {
     "data": {
      "image/png": "[encoded data removed]",
      "text/plain": [
       "<Figure size 360x576 with 4 Axes>"
      ]
     },
     "metadata": {},
     "output_type": "display_data"
    }
   ],
   "source": [
    "path = '{}/{}/{}/results_{}.csv'\n",
    "result_image = 'plots-web/{}.png'\n",
    "methods = (\n",
    "    ('normal', 'normal'),\n",
    "    #('random_normal', 'normal/random-expectation'),\n",
    "    #('fixed-structure', 'fixed-structure'),\n",
    "    #('random_fixed-structure', 'fixed-structure/random-expectation')\n",
    ")\n",
    "\n",
    "#with open('asp_programs.txt') as fin: asp_programs = [x.strip() for x in fin]\n",
    "asp_programs = ('clique',)\n",
    "classes_dataset = ('CIS', 'RR', 'SP', 'PP')\n",
    "\n",
    "for asp_prog in asp_programs:\n",
    "    # x=8 se plottiamo anche i random, altrimenti x=4\n",
    "    res = np.array(plt.subplots(4, 1, sharex=True))\n",
    "    fig, axes = res[0], res[1]\n",
    "    axes.flatten()\n",
    "    \n",
    "    ax_index = 0\n",
    "    for c, class_dataset in enumerate(classes_dataset):\n",
    "        for m, (method, directory) in enumerate(methods):\n",
    "            df = pd.DataFrame.from_csv(path.format(directory, asp_prog, class_dataset, asp_prog), sep=';')\n",
    "\n",
    "            # removing patients with incorrect prediction at the first time step\n",
    "            miss_classified = df[(df.Run == 0) & (df.OUTCLASS != class_dataset)].index.values.tolist()\n",
    "            for miss in miss_classified:\n",
    "                df = df[~df.index.str.contains(miss)]\n",
    "                \n",
    "            # remove patients with incorrect prediction after the first time step\n",
    "            cis_run = set(df[(df.Run == 0) & (df.OUTCLASS == class_dataset)].index.values.tolist())\n",
    "            for i in range(1,5):\n",
    "                cis_run = set(cis_run).difference(df[(df.Run == i) & (df.OUTCLASS != class_dataset)].index.values.tolist())\n",
    "            to_remove = list(set(df[(df.Run == 4) & (df.OUTCLASS == class_dataset)].index.values.tolist()).difference(cis_run))\n",
    "            for remove in to_remove:\n",
    "                df = df[~df.index.str.contains(remove)]\n",
    "\n",
    "            # saving the plot\n",
    "            title = '{}{}'.format(class_dataset, '' if 'random' not in method else ' (random)')\n",
    "            print(title)\n",
    "            \n",
    "            print(df.columns)\n",
    "            df.columns = ['Iteration', 'CIS', 'PP', 'RR', 'SP', 'OUTCLASS', 'Edges']\n",
    "            new_columns = ['Iteration', 'CIS', 'RR', 'SP', 'PP', 'OUTCLASS', 'Edges']\n",
    "            df = df.reindex(columns=new_columns)\n",
    "            print(df.columns)\n",
    "            \n",
    "            plot = df.drop(['Edges'], axis=1).groupby(df.Iteration).mean().drop(['Iteration'], axis=1)\\\n",
    "                .plot(kind='bar',\n",
    "                      colormap='Blues',\n",
    "                      figsize=(5, 8),\n",
    "                      ax=axes[ax_index],\n",
    "                      width=.6,\n",
    "                      linewidth=.2,\n",
    "                      edgecolor='black',\n",
    "                      fontsize=7,\n",
    "                      rot=0,\n",
    "                      grid=False,\n",
    "                      title=title);\n",
    "            \n",
    "            if ax_index == 0:\n",
    "                axes[ax_index].legend(loc=0, ncol=4, framealpha=1, frameon=True)\n",
    "            else:\n",
    "                axes[ax_index].legend().remove()\n",
    "\n",
    "            ax_index += 1\n",
    "        \n",
    "    fig.savefig(result_image.format(asp_prog), dpi=100, bbox_inches='tight')\n",
    "        \n",
    "print('All done, folks!')"
   ]
  },
  {
   "cell_type": "code",
   "execution_count": null,
   "metadata": {},
   "outputs": [],
   "source": []
  }
 ],
 "metadata": {
  "kernelspec": {
   "display_name": "Python 3",
   "language": "python",
   "name": "python3"
  },
  "language_info": {
   "codemirror_mode": {
    "name": "ipython",
    "version": 3
   },
   "file_extension": ".py",
   "mimetype": "text/x-python",
   "name": "python",
   "nbconvert_exporter": "python",
   "pygments_lexer": "ipython3",
   "version": "3.5.6"
  }
 },
 "nbformat": 4,
 "nbformat_minor": 2
}
