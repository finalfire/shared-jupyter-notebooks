{
 "cells": [
  {
   "cell_type": "code",
   "execution_count": 1,
   "metadata": {},
   "outputs": [],
   "source": [
    "%matplotlib inline\n",
    "import pandas as pd"
   ]
  },
  {
   "cell_type": "code",
   "execution_count": 40,
   "metadata": {},
   "outputs": [],
   "source": [
    "df = pd.read_excel('cliques.xlsx')\n",
    "\n",
    "# the clique is actually removed only at iteration 2 and 4\n",
    "# (50%, two steps are needed to delete an edge)\n",
    "dfit = df[(df['Iteration'] == 2) | (df['Iteration'] == 4)]"
   ]
  },
  {
   "cell_type": "code",
   "execution_count": 41,
   "metadata": {},
   "outputs": [
    {
     "name": "stdout",
     "output_type": "stream",
     "text": [
      "[]\n"
     ]
    }
   ],
   "source": [
    "# check if {clique at iteration 4} is a subet of {clique at iteration 2}\n",
    "are_subsets = list()\n",
    "for i in range(0, len(dfit), 2):\n",
    "    edges_b = set(dfit.iloc[i].Nodes.split(' '))\n",
    "    edges_a = set(dfit.iloc[i+1].Nodes.split(' '))\n",
    "    if edges_a.issubset(edges_b):\n",
    "        are_subsets.append(dfit.iloc[i].Patient)\n",
    "print(are_subsets)"
   ]
  }
 ],
 "metadata": {
  "kernelspec": {
   "display_name": "Python 3",
   "language": "python",
   "name": "python3"
  },
  "language_info": {
   "codemirror_mode": {
    "name": "ipython",
    "version": 3
   },
   "file_extension": ".py",
   "mimetype": "text/x-python",
   "name": "python",
   "nbconvert_exporter": "python",
   "pygments_lexer": "ipython3",
   "version": "3.5.6"
  }
 },
 "nbformat": 4,
 "nbformat_minor": 2
}
